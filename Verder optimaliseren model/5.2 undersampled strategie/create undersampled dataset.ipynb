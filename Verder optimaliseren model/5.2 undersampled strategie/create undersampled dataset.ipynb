{
 "cells": [
  {
   "cell_type": "code",
   "execution_count": 5,
   "outputs": [],
   "source": [
    "import os, pathlib\n",
    "from dataset_module import dataset_creation"
   ],
   "metadata": {
    "collapsed": false
   }
  },
  {
   "cell_type": "code",
   "execution_count": 6,
   "outputs": [
    {
     "data": {
      "text/plain": "'C:\\\\My Projects\\\\Opdracht-schilders\\\\Verder optimaliseren model\\\\5.2 undersampled strategie'"
     },
     "execution_count": 6,
     "metadata": {},
     "output_type": "execute_result"
    }
   ],
   "source": [
    "# deze code verzekerd dat onze current working directory onze project root folder is, zodat de code werkt zoals verwacht\n",
    "while os.getcwd() != \"C:\\\\My Projects\\\\Opdracht-schilders\":\n",
    "    os.chdir('..')\n",
    "\n",
    "os.chdir(\"Verder optimaliseren model/5.2 undersampled strategie\")\n",
    "os.getcwd()"
   ],
   "metadata": {
    "collapsed": false
   }
  },
  {
   "cell_type": "markdown",
   "source": [
    "# Creëren undersampled dataset"
   ],
   "metadata": {
    "collapsed": false
   }
  },
  {
   "cell_type": "markdown",
   "source": [
    "Ik zal nu ook eens met een undersampled dataset mijn model uittesten. Daarvoor moet ik natuurlijk eerst een dataset creëren die met de undersampled strategie (verwijderen van willekeurige images tot iedere klasse evenveel images heeft). Veel van deze notebook zal identiek zijn aan de setup.ipynb van in \"2. Data exploration & setup\"."
   ],
   "metadata": {
    "collapsed": false
   }
  },
  {
   "cell_type": "markdown",
   "source": [
    "## Data exploration"
   ],
   "metadata": {
    "collapsed": false
   }
  },
  {
   "cell_type": "markdown",
   "source": [
    "#### Data cleanup"
   ],
   "metadata": {
    "collapsed": false
   }
  },
  {
   "cell_type": "markdown",
   "source": [
    "Data cleanup is al gebeurd op de images."
   ],
   "metadata": {
    "collapsed": false
   }
  },
  {
   "cell_type": "markdown",
   "source": [
    "#### Check hoeveel images per schilder."
   ],
   "metadata": {
    "collapsed": false
   }
  },
  {
   "cell_type": "code",
   "execution_count": 7,
   "outputs": [
    {
     "name": "stdout",
     "output_type": "stream",
     "text": [
      "File count Mondriaan: 254\n",
      "File count Picasso: 1468\n",
      "File count Rembrandt: 254\n",
      "File count Rubens: 682\n",
      "File count Van Gogh: 775\n"
     ]
    }
   ],
   "source": [
    "for painter in os.listdir(\"paintings\"):\n",
    "    print(f'File count {painter}: {dataset_creation.check_amount_of_images(f\"paintings/{painter}\")}')"
   ],
   "metadata": {
    "collapsed": false
   }
  },
  {
   "cell_type": "code",
   "execution_count": 11,
   "outputs": [
    {
     "name": "stdout",
     "output_type": "stream",
     "text": [
      "File count Mondriaan: 254\n",
      "File count Picasso: 254\n",
      "File count Rembrandt: 254\n",
      "File count Rubens: 254\n",
      "File count Van Gogh: 254\n"
     ]
    }
   ],
   "source": [
    "dataset_creation.balance_dataset_undersampled(\"paintings\")\n",
    "\n",
    "for painter in os.listdir(\"paintings\"):\n",
    "    print(f'File count {painter}: {dataset_creation.check_amount_of_images(f\"paintings/{painter}\")}')"
   ],
   "metadata": {
    "collapsed": false
   }
  },
  {
   "cell_type": "markdown",
   "source": [
    "#### Hernoemen filenaam naar index"
   ],
   "metadata": {
    "collapsed": false
   }
  },
  {
   "cell_type": "code",
   "execution_count": 14,
   "outputs": [],
   "source": [
    "for painter in os.listdir(\"paintings\"):\n",
    "    dataset_creation.rename_files(f\"paintings/{painter}\")"
   ],
   "metadata": {
    "collapsed": false
   }
  },
  {
   "cell_type": "markdown",
   "source": [
    "### Opsplitsen van de data in train-, validatie- en testset"
   ],
   "metadata": {
    "collapsed": false
   }
  },
  {
   "cell_type": "code",
   "execution_count": 19,
   "outputs": [],
   "source": [
    "original_dir = pathlib.Path(\"paintings\")\n",
    "new_base_dir = pathlib.Path(\"undersampled_dataset\")\n",
    "\n",
    "# make_subset van de dataset_creation module\n",
    "dataset_creation.make_subset(original_dir, new_base_dir, \"train\", start_index=0, end_index=152) # 60% trainingsset\n",
    "dataset_creation.make_subset(original_dir, new_base_dir, \"validation\", start_index=152, end_index=203) # 20% validatieset\n",
    "dataset_creation.make_subset(original_dir, new_base_dir, \"test\", start_index=203, end_index=254) # 20% testset"
   ],
   "metadata": {
    "collapsed": false
   }
  },
  {
   "cell_type": "code",
   "execution_count": null,
   "outputs": [],
   "source": [],
   "metadata": {
    "collapsed": false
   }
  }
 ],
 "metadata": {
  "kernelspec": {
   "display_name": "Python 3",
   "language": "python",
   "name": "python3"
  },
  "language_info": {
   "codemirror_mode": {
    "name": "ipython",
    "version": 2
   },
   "file_extension": ".py",
   "mimetype": "text/x-python",
   "name": "python",
   "nbconvert_exporter": "python",
   "pygments_lexer": "ipython2",
   "version": "2.7.6"
  }
 },
 "nbformat": 4,
 "nbformat_minor": 0
}
