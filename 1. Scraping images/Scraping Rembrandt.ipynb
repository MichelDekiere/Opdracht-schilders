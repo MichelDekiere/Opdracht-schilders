{
 "cells": [
  {
   "cell_type": "markdown",
   "source": [
    "# Scrapen van schilderijen"
   ],
   "metadata": {
    "collapsed": false
   }
  },
  {
   "cell_type": "markdown",
   "source": [
    "Om een extra schilder toe te voegen aan ons project, moeten we eerst aan een hele hoeveelheid images geraken. Dit bekomen we door middel van scraping. Ik zal in deze notebook zoveel mogelijk images scrapen van de schilder Rembrandt. Ik zal de scraping uitvoeren op [deze](http://www.rembrandtpainting.net/complete_catalogue/complete_catalogue.htm) site."
   ],
   "metadata": {
    "collapsed": false
   }
  },
  {
   "cell_type": "code",
   "execution_count": 3,
   "outputs": [],
   "source": [
    "import os, shutil\n",
    "import requests\n",
    "from bs4 import BeautifulSoup\n",
    "import urllib.request"
   ],
   "metadata": {
    "collapsed": false
   }
  },
  {
   "cell_type": "markdown",
   "source": [
    "Nieuwe folder maken om de gescrapte images in op te slaan, we maken deze dan ook de actieve folder zodat de images dan ook daadwerkelijk hierin opgeslagen worden."
   ],
   "metadata": {
    "collapsed": false
   }
  },
  {
   "cell_type": "code",
   "execution_count": 2,
   "outputs": [],
   "source": [
    "os.mkdir(\"../datasets/paintings/Rembrandt\")      # aanmaken directory\n",
    "os.chdir(\"../datasets/paintings/Rembrandt/\")     # deze directory active maken, zodat de gescrapete images hierin terecht komen"
   ],
   "metadata": {
    "collapsed": false
   }
  },
  {
   "cell_type": "markdown",
   "source": [
    "## Eerste poging"
   ],
   "metadata": {
    "collapsed": false
   }
  },
  {
   "cell_type": "markdown",
   "source": [
    "Hieronder vindt u de scraping methode die ik ingediend heb voor de scraping challenge. Ik was echter niet tevreden met het aantal images die ik hiermee scrapte, dus heb ik het opnieuw geprobeerd in een poging toch meer images te kunnen scrapen. Deze tweede poging vindt u hieronder, dat is dan ook de methode die ik gebruikt heb voor de dataset van de Rembrandt schrilderijen die u vindt onder 'datasets/paintings/Rembrandt'."
   ],
   "metadata": {
    "collapsed": false
   }
  },
  {
   "cell_type": "code",
   "execution_count": 4,
   "outputs": [],
   "source": [
    "time_period = [\"1626-35.htm\", \"1636_54.htm\", \"1655-69.htm\"]\n",
    "full_links = []\n",
    "\n",
    "for period in time_period: # iedere pagina van de verschillende tijdperioden bezoeken\n",
    "\n",
    "  url_catalogue = \"http://www.rembrandtpainting.net/rembrandt_painting_\" + period # url samenvoegen\n",
    "\n",
    "  response = requests.get(url_catalogue) # request doen naar gemaakte url\n",
    "  soup = BeautifulSoup(response.content, \"html.parser\") # html content van pagina ophalen\n",
    "\n",
    "\n",
    "  if response.status_code == 200: # indien een succesvolle statuscode (200)\n",
    "\n",
    "    anchors = soup.find_all(\"a\") # alle links ophalen\n",
    "    for anchor in anchors:  # voor iedere link\n",
    "      href = anchor[\"href\"] # href van iedere <a> in de html\n",
    "      helpert = [\"1620\", \"1636\", \"1655\"]\n",
    "      for helper in helpert:\n",
    "        if helper in href:\n",
    "          full_links.append(f\"http://www.rembrandtpainting.net/{href}\") # pagina link samenstellen\n"
   ],
   "metadata": {
    "collapsed": false
   }
  },
  {
   "cell_type": "code",
   "execution_count": 4,
   "outputs": [],
   "source": [
    "images = []\n",
    "helpers = [\"rmbrndt_1620-35/\", \"rmbrndt_1636-1654/\", \"rmbrndt_1655-1669/\"]\n",
    "i = 0\n",
    "\n",
    "for link in full_links: # voor iedere link in vorige stap\n",
    "\n",
    "  response = requests.get(link)\n",
    "  # print(link)\n",
    "  soup = BeautifulSoup(response.content, \"html.parser\") # html ophalen\n",
    "\n",
    "  for div in soup.find_all(\"div\", attrs={\"id\": \"workimage\"}): # alle divs overlopen met id=\"workimage\"\n",
    "\n",
    "    try: # iedere mogelijke optie overlopen van link, indien error print fail\n",
    "\n",
    "      if div.find(\"img\")[\"src\"].startswith(\"1620\"):\n",
    "        urllib.request.urlretrieve(f\"http://www.rembrandtpainting.net/{helpers[0]}\" + div.find(\"img\")[\"src\"], f\"Rembrandt {i}.jpg\")\n",
    "      elif div.find(\"img\")[\"src\"].startswith(\"1636\"):\n",
    "        urllib.request.urlretrieve(f\"http://www.rembrandtpainting.net/{helpers[1]}\" + div.find(\"img\")[\"src\"], f\"Rembrandt {i}.jpg\")\n",
    "      elif div.find(\"img\")[\"src\"].startswith(\"1655\"):\n",
    "        urllib.request.urlretrieve(f\"http://www.rembrandtpainting.net/{helpers[2]}\" + div.find(\"img\")[\"src\"], f\"Rembrandt {i}.jpg\")\n",
    "\n",
    "      i += 1\n",
    "    except:\n",
    "      print(\"fail\")"
   ],
   "metadata": {
    "collapsed": false
   }
  },
  {
   "cell_type": "markdown",
   "source": [
    "Met deze poging bekwam ik 120 gescrapte images."
   ],
   "metadata": {
    "collapsed": false
   }
  },
  {
   "cell_type": "code",
   "execution_count": 5,
   "outputs": [
    {
     "name": "stdout",
     "output_type": "stream",
     "text": [
      "120\n"
     ]
    }
   ],
   "source": [
    "print(i)"
   ],
   "metadata": {
    "collapsed": false
   }
  },
  {
   "cell_type": "markdown",
   "source": [
    "## Tweede poging"
   ],
   "metadata": {
    "collapsed": false
   }
  },
  {
   "cell_type": "markdown",
   "source": [
    "Hieronder vindt u mijn definitieve poging waarmee ik meer images kon scrapen."
   ],
   "metadata": {
    "collapsed": false
   }
  },
  {
   "cell_type": "code",
   "execution_count": 5,
   "outputs": [],
   "source": [
    "\"\"\"\n",
    "    Links ophalen van iedere categorie\n",
    "\"\"\"\n",
    "url_catalogue = \"http://www.rembrandtpainting.net/complete_catalogue/complete_catalogue.htm\"\n",
    "\n",
    "response = requests.get(url_catalogue)\n",
    "soup = BeautifulSoup(response.content, \"html.parser\")\n",
    "\n",
    "full_links = []\n",
    "if response.status_code == 200:\n",
    "\n",
    "  anchors = soup.find_all(\"a\")[11:18] # alleen de nodige <a> tags ophalen\n",
    "  for anchor in anchors:\n",
    "    href = anchor[\"href\"]\n",
    "    full_links.append(f\"http://www.rembrandtpainting.net/complete_catalogue/{href}\")"
   ],
   "metadata": {
    "collapsed": false
   }
  },
  {
   "cell_type": "code",
   "execution_count": 6,
   "outputs": [
    {
     "data": {
      "text/plain": "['http://www.rembrandtpainting.net/complete_catalogue/start_history.htm',\n 'http://www.rembrandtpainting.net/complete_catalogue/start_history_two.htm',\n 'http://www.rembrandtpainting.net/complete_catalogue/start_landscapes.htm',\n 'http://www.rembrandtpainting.net/complete_catalogue/start_self_portraits.htm',\n 'http://www.rembrandtpainting.net/complete_catalogue/start_portraits.htm',\n 'http://www.rembrandtpainting.net/complete_catalogue/start_family_portraits.htm',\n 'http://www.rembrandtpainting.net/complete_catalogue/start_allegories.htm']"
     },
     "execution_count": 6,
     "metadata": {},
     "output_type": "execute_result"
    }
   ],
   "source": [
    "full_links"
   ],
   "metadata": {
    "collapsed": false
   }
  },
  {
   "cell_type": "code",
   "execution_count": 7,
   "outputs": [
    {
     "name": "stdout",
     "output_type": "stream",
     "text": [
      "\thttp://www.rembrandtpainting.net/complete_catalogue/storia/images/st_stephen.jpg\n",
      "\thttp://www.rembrandtpainting.net/rmbrndt_1620-35/1620_35_images/history_painting.jpg\n",
      "\thttp://www.rembrandtpainting.net/complete_catalogue/storia/images/eunuch.jpg\n",
      "\thttp://www.rembrandtpainting.net/rmbrndt_1620-35/1620_35_images/blind_hermit.jpg\n",
      "\thttp://www.rembrandtpainting.net/complete_catalogue/storia/images/beating_ass.jpg\n",
      "\thttp://www.rembrandtpainting.net/complete_catalogue/storia_b/images/rich_man.jpg\n",
      "\thttp://www.rembrandtpainting.net/complete_catalogue/storia_b/images/paul_prison.jpg\n",
      "\thttp://www.rembrandtpainting.net/complete_catalogue/../rmbrndt_1620-35/1620_35_images/earlywork.jpg\n",
      "\thttp://www.rembrandtpainting.net/rmbrndt_1620-35/1620_35_images/earlywork.jpg\n",
      "\thttp://www.rembrandtpainting.net/rmbrndt_1620-35/1620_35_images/dahlia.jpg\n",
      "FAIL\n",
      "\thttp://www.rembrandtpainting.net/complete_catalogue/storia/images/simon_baby_jesus.jpg\n",
      "\thttp://www.rembrandtpainting.net/rmbrndt_1620-35/1620_35_images/judas_repentent.jpg\n",
      "FAIL\n",
      "\thttp://www.rembrandtpainting.net/complete_catalogue/storia/../storia_b/images/emmaus.jpg\n",
      "\thttp://www.rembrandtpainting.net/rmbrndt_1620-35/1620_35_images/saul.jpg\n",
      "\thttp://www.rembrandtpainting.net/complete_catalogue/../rmbrndt_1620-35/1620_35_images/andromeda.jpg\n",
      "\thttp://www.rembrandtpainting.net/rmbrndt_1620-35/1620_35_images/andromeda.jpg\n",
      "FAIL\n",
      "\thttp://www.rembrandtpainting.net/rmbrndt_1620-35/1620_35_images/jeramia.jpg\n",
      "\thttp://www.rembrandtpainting.net/rmbrndt_1620-35/1620_35_images/prosepina.jpg\n",
      "\thttp://www.rembrandtpainting.net/complete_catalogue/storia/images/crucifixion.jpg\n",
      "\thttp://www.rembrandtpainting.net/rmbrndt_1620-35/1620_35_images/biblical_heroine.jpg\n",
      "\thttp://www.rembrandtpainting.net/rmbrndt_1620-35/1620_35_images/presentation_at_temple.jpg\n",
      "\thttp://www.rembrandtpainting.net/complete_catalogue/../rmbrndt_1620-35/1620_35_images/lazarus.jpg\n",
      "\thttp://www.rembrandtpainting.net/rmbrndt_1620-35/1620_35_images/lazarus.jpg\n",
      "\thttp://www.rembrandtpainting.net/complete_catalogue/storia/../woman_mantel.jpg\n",
      "FAIL\n",
      "FAIL\n",
      "\thttp://www.rembrandtpainting.net/complete_catalogue/../rmbrndt_1620-35/1620_35_images/biblical_heroine.jpg\n",
      "\thttp://www.rembrandtpainting.net/rmbrndt_1620-35/1620_35_images/biblical_heroine.jpg\n",
      "\thttp://www.rembrandtpainting.net/complete_catalogue/storia/../storia_b/images/deposizion.jpg\n",
      "\thttp://www.rembrandtpainting.net/rmbrndt_1620-35/1620_35_images/bellona.jpg\n",
      "\thttp://www.rembrandtpainting.net/complete_catalogue/storia/images/king_ciro.jpg\n",
      "\thttp://www.rembrandtpainting.net/complete_catalogue/../rmbrndt_1620-35/1620_35_images/storm.jpg\n",
      "\thttp://www.rembrandtpainting.net/rmbrndt_1620-35/1620_35_images/storm.jpg\n",
      "\thttp://www.rembrandtpainting.net/complete_catalogue/storia/images/dreams.jpg\n",
      "\thttp://www.rembrandtpainting.net/complete_catalogue/../rmbrndt_1620-35/1620_35_images/crucifixion.jpg\n",
      "\thttp://www.rembrandtpainting.net/complete_catalogue/storia/images/entombment.jpg\n",
      "\thttp://www.rembrandtpainting.net/rmbrndt_1620-35/1620_35_images/ecce_omo.jpg\n",
      "\thttp://www.rembrandtpainting.net/complete_catalogue/storia_b/images/apostle_tomas.jpg\n",
      "\thttp://www.rembrandtpainting.net/rmbrndt_1620-35/1620_35_images/holy_family_bis.jpg\n",
      "\thttp://www.rembrandtpainting.net/complete_catalogue/storia_b/images/cupid.jpg\n",
      "\thttp://www.rembrandtpainting.net/rmbrndt_1620-35/1620_35_images/artemisia.jpg\n",
      "\thttp://www.rembrandtpainting.net/complete_catalogue/../rmbrndt_1620-35/1620_35_images/christ_preaching.jpg\n",
      "\thttp://www.rembrandtpainting.net/rmbrndt_1620-35/1620_35_images/christ_preaching.jpg\n",
      "FAIL\n",
      "\thttp://www.rembrandtpainting.net/complete_catalogue/storia/images/abaraham.jpg\n",
      "FAIL\n",
      "FAIL\n",
      "\thttp://www.rembrandtpainting.net/complete_catalogue/storia/../storia_b/images/lamentation.jpg\n",
      "\thttp://www.rembrandtpainting.net/complete_catalogue/../rmbrndt_1620-35/1620_35_images/belshazzar.jpg\n",
      "\thttp://www.rembrandtpainting.net/complete_catalogue/storia/images/samson_threatening.jpg\n",
      "\thttp://www.rembrandtpainting.net/complete_catalogue/storia/images/oriental%20costume.jpg\n",
      "\thttp://www.rembrandtpainting.net/complete_catalogue/storia/../entombment.jpg\n",
      "\thttp://www.rembrandtpainting.net/complete_catalogue/storia_b/images/resurection.jpg\n",
      "\thttp://www.rembrandtpainting.net/rmbrndt_1636-1654/1636-54_images/sanson.jpg\n",
      "FAIL\n",
      "\thttp://www.rembrandtpainting.net/rmbrndt_1636-1654/1636-54_images/danea.jpg\n",
      "\thttp://www.rembrandtpainting.net/rmbrndt_1636-1654/1636-54_images/susanna.jpg\n",
      "\thttp://www.rembrandtpainting.net/rmbrndt_1636-1654/1636-54_images/angel.jpg\n",
      "\thttp://www.rembrandtpainting.net/complete_catalogue/storia/images/abraham_and_son.jpg\n",
      "\thttp://www.rembrandtpainting.net/complete_catalogue/storia/images/samson_wedding.jpg\n",
      "\thttp://www.rembrandtpainting.net/rmbrndt_1636-1654/1636-54_images/christ_and_magdalen.jpg\n",
      "\thttp://www.rembrandtpainting.net/complete_catalogue/storia_b/images/visitation.jpg\n",
      "\thttp://www.rembrandtpainting.net/rmbrndt_1636-1654/1636-54_images/david_and_jonathan.jpg\n",
      "\thttp://www.rembrandtpainting.net/complete_catalogue/storia/images/bathsheba_bagno.jpg\n",
      "\thttp://www.rembrandtpainting.net/rmbrndt_1636-1654/1636-54_images/adultery.jpg\n",
      "\thttp://www.rembrandtpainting.net/rmbrndt_1636-1654/1636-54_images/the_holy_family.jpg\n",
      "\thttp://www.rembrandtpainting.net/complete_catalogue/storia/images/tobia_anna.jpg\n",
      "\thttp://www.rembrandtpainting.net/complete_catalogue/storia/images/dream_st_joseph.jpg\n",
      "\thttp://www.rembrandtpainting.net/complete_catalogue/storia_b/images/adoration.jpg\n",
      "\thttp://www.rembrandtpainting.net/complete_catalogue/storia_b/images/pastors.jpg\n",
      "\thttp://www.rembrandtpainting.net/complete_catalogue/storia_b/images/holy_family_curtain.jpg\n",
      "\thttp://www.rembrandtpainting.net/complete_catalogue/storia/images/abrahan_and_angels.jpg\n",
      "\thttp://www.rembrandtpainting.net/complete_catalogue/storia/images/susanna_and_elders.jpg\n",
      "\thttp://www.rembrandtpainting.net/complete_catalogue/storia_b/images/emmaus.jpg\n",
      "\thttp://www.rembrandtpainting.net/complete_catalogue/storia_b/images/head_christ.jpg\n",
      "FAIL\n",
      "\thttp://www.rembrandtpainting.net/rmbrndt_1655-1669/1655-69_images/josepf_and_potipher.jpg\n",
      "\thttp://www.rembrandtpainting.net/complete_catalogue/../rmbrndt_1655-1669/1655-69_images/polish_rider.jpg\n",
      "\thttp://www.rembrandtpainting.net/rmbrndt_1655-1669/1655-69_images/polish_rider.jpg\n",
      "\thttp://www.rembrandtpainting.net/rmbrndt_1655-1669/1655-69_images/man_in_helmet.jpg\n",
      "\thttp://www.rembrandtpainting.net/complete_catalogue/storia_b/../helmet.jpg\n",
      "\thttp://www.rembrandtpainting.net/rmbrndt_1655-1669/1655-69_images/jacob.jpg\n",
      "\thttp://www.rembrandtpainting.net/complete_catalogue/storia_b/images/apostlepaul.jpg\n",
      "\thttp://www.rembrandtpainting.net/complete_catalogue/storia_b/images/mercury.jpg\n",
      "FAIL\n",
      "\thttp://www.rembrandtpainting.net/complete_catalogue/storia_b/images/christ_samaritan.jpg\n",
      "\thttp://www.rembrandtpainting.net/complete_catalogue/storia_b/images/negation_peter.jpg\n",
      "\thttp://www.rembrandtpainting.net/complete_catalogue/storia_b/images/bartholomew.jpg\n",
      "\thttp://www.rembrandtpainting.net/complete_catalogue/../rmbrndt_1655-1669/1655-69_images/mathew_.jpg\n",
      "\thttp://www.rembrandtpainting.net/rmbrndt_1655-1669/1655-69_images/mathew_.jpg\n",
      "\thttp://www.rembrandtpainting.net/complete_catalogue/storia_b/images/bartholemew_bis.jpg\n",
      "\thttp://www.rembrandtpainting.net/complete_catalogue/storia_b/images/simon.jpg\n",
      "\thttp://www.rembrandtpainting.net/complete_catalogue/storia_b/images/sorrows.jpg\n",
      "\thttp://www.rembrandtpainting.net/complete_catalogue/storia_b/images/christ_resurected.jpg\n",
      "\thttp://www.rembrandtpainting.net/complete_catalogue/storia_b/images/batavi.jpg\n",
      "\thttp://www.rembrandtpainting.net/complete_catalogue/storia_b/images/homer_blind.jpg\n",
      "\thttp://www.rembrandtpainting.net/rmbrndt_1655-1669/1655-69_images/bathsheba.jpg\n",
      "\thttp://www.rembrandtpainting.net/complete_catalogue/../rmbrndt_1655-1669/1655-69_images/lucretzia.jpg\n",
      "\thttp://www.rembrandtpainting.net/rmbrndt_1655-1669/1655-69_images/lucretzia.jpg\n",
      "\thttp://www.rembrandtpainting.net/complete_catalogue/storia_b/images/lucretia_bis.jpg\n",
      "\thttp://www.rembrandtpainting.net/complete_catalogue/../rmbrndt_1655-1669/1655-69_images/prodigal_son.jpg\n",
      "\thttp://www.rembrandtpainting.net/rmbrndt_1655-1669/1655-69_images/prodigal_son.jpg\n",
      "FAIL\n",
      "FAIL\n",
      "\thttp://www.rembrandtpainting.net/rmbrndt_1636-1654/1636-54_images/stone_bridge.jpg\n",
      "FAIL\n",
      "\thttp://www.rembrandtpainting.net/rmbrndt_1636-1654/1636-54_images/landscape.jpg\n",
      "\thttp://www.rembrandtpainting.net/complete_catalogue/landscape/images/samaritan.jpg\n",
      "\thttp://www.rembrandtpainting.net/complete_catalogue/landscape/images/castle.jpg\n",
      "FAIL\n",
      "\thttp://www.rembrandtpainting.net/rmbrndt_1655-1669/1655-69_images/winter_landscape.jpg\n",
      "\thttp://www.rembrandtpainting.net/rmbrndt_1636-1654/1636-54_images/flight_from_egypt.jpg\n",
      "\thttp://www.rembrandtpainting.net/complete_catalogue/landscape/images/mill.jpg\n",
      "\thttp://www.rembrandtpainting.net/complete_catalogue/landscape/images/windmill.jpg\n",
      "\thttp://www.rembrandtpainting.net/rmbrndt_1636-1654/1636-54_images/birds.jpg\n",
      "\thttp://www.rembrandtpainting.net/complete_catalogue/landscape/images/ox.jpg\n",
      "\thttp://www.rembrandtpainting.net/complete_catalogue/../slf_prtrts/slf_prtrts_imgs/slfprtrt_c.1628.jpg\n",
      "\thttp://www.rembrandtpainting.net/slf_prtrts/slf_prtrts_imgs/slfprtrt_c.1628.jpg\n",
      "FAIL\n",
      "\thttp://www.rembrandtpainting.net/slf_prtrts/slf_prtrts_imgs/slfprtrt_1629.jpg\n",
      "\thttp://www.rembrandtpainting.net/slf_prtrts/slf_prtrts_imgs/self_portrait_young.jpg\n",
      "\thttp://www.rembrandtpainting.net/complete_catalogue/../slf_prtrts/slf_prtrts_imgs/slf_prtrt_gorget_beret.jpg\n",
      "\thttp://www.rembrandtpainting.net/slf_prtrts/slf_prtrts_imgs/slf_prtrt_gorget_beret.jpg\n",
      "\thttp://www.rembrandtpainting.net/complete_catalogue/../slf_prtrts/slf_prtrts_imgs/sflprtrt_plummed_hat.jpg\n",
      "\thttp://www.rembrandtpainting.net/slf_prtrts/slf_prtrts_imgs/sflprtrt_plummed_hat.jpg\n",
      "FAIL\n",
      "\thttp://www.rembrandtpainting.net/slf_prtrts/slf_prtrts_imgs/slf_prtrt_1630.jpg\n",
      "\thttp://www.rembrandtpainting.net/complete_catalogue/../slf_prtrts/../complete_catalogue/self_portraits/images/beret_gold_chainBis.jpg\n",
      "\thttp://www.rembrandtpainting.net/complete_catalogue/../slf_prtrts/slf_prtrts_imgs/slf_prtrt_oriental_attirre.jpg\n",
      "\thttp://www.rembrandtpainting.net/slf_prtrts/slf_prtrts_imgs/slf_prtrt_oriental_attirre.jpg\n",
      "\thttp://www.rembrandtpainting.net/complete_catalogue/../slf_prtrts/slf_prtrts_imgs/slf_prtrt_wide-brimmed%20hat.jpg\n",
      "FAIL\n",
      "\thttp://www.rembrandtpainting.net/complete_catalogue/self_portraits/images/1633_bis.jpg\n",
      "\thttp://www.rembrandtpainting.net/complete_catalogue/../slf_prtrts/../complete_catalogue/self_portraits/images/1633_tris.jpg\n",
      "\thttp://www.rembrandtpainting.net/complete_catalogue/self_portraits/images/c.1633bis.jpg\n",
      "\thttp://www.rembrandtpainting.net/slf_prtrts/slf_prtrts_imgs/self_portrait_smiling.jpg\n",
      "\thttp://www.rembrandtpainting.net/slf_prtrts/slf_prtrts_imgs/self_portrait_helmet.jpg\n",
      "FAIL\n",
      "\thttp://www.rembrandtpainting.net/rmbrndt_1620-35/1620_35_images/prodigal.jpg\n",
      "\thttp://www.rembrandtpainting.net/complete_catalogue/self_portraits/images/c.1635-1636.jpg\n",
      "\thttp://www.rembrandtpainting.net/complete_catalogue/self_portraits/images/c.1635-1638.jpg\n",
      "\thttp://www.rembrandtpainting.net/complete_catalogue/self_portraits/images/1637-1640.jpg\n",
      "\thttp://www.rembrandtpainting.net/complete_catalogue/self_portraits/images/dead_bird.jpg\n",
      "\thttp://www.rembrandtpainting.net/complete_catalogue/self_portraits/images/c.1639.jpg\n",
      "\thttp://www.rembrandtpainting.net/complete_catalogue/self_portraits/images/c.1639_bis.jpg\n",
      "\thttp://www.rembrandtpainting.net/complete_catalogue/self_portraits/images/1642.jpg\n",
      "\thttp://www.rembrandtpainting.net/slf_prtrts/slf_prtrts_imgs/self_portrait_oval.jpg\n",
      "\thttp://www.rembrandtpainting.net/slf_prtrts/slf_prtrts_imgs/slf_prtrt_1640.jpg\n",
      "\thttp://www.rembrandtpainting.net/complete_catalogue/../slf_prtrts/slf_prtrts_imgs/slf_prtrt__1641.jpg\n",
      "\thttp://www.rembrandtpainting.net/slf_prtrts/slf_prtrts_imgs/slf_prtrt__1641.jpg\n",
      "\thttp://www.rembrandtpainting.net/complete_catalogue/../slf_prtrts/slf_prtrts_imgs/slfprtrt_beret_goldchains.jpg\n",
      "\thttp://www.rembrandtpainting.net/slf_prtrts/slf_prtrts_imgs/slfprtrt_beret_goldchains.jpg\n",
      "\thttp://www.rembrandtpainting.net/complete_catalogue/self_portraits/images/1654.jpg\n",
      "\thttp://www.rembrandtpainting.net/complete_catalogue/self_portraits/images/1655.jpg\n",
      "FAIL\n",
      "\thttp://www.rembrandtpainting.net/slf_prtrts/slf_prtrts_imgs/selfprtrtfrick.jpg\n",
      "\thttp://www.rembrandtpainting.net/complete_catalogue/../slf_prtrts/slf_prtrts_imgs/slf_prtrt_1659.jpg\n",
      "\thttp://www.rembrandtpainting.net/slf_prtrts/slf_prtrts_imgs/slf_prtrt_1659.jpg\n",
      "\thttp://www.rembrandtpainting.net/complete_catalogue/../slf_prtrts/slf_prtrts_imgs/slfprtrt_with_beret_collar.jpg\n",
      "\thttp://www.rembrandtpainting.net/slf_prtrts/slf_prtrts_imgs/slfprtrt_with_beret_collar.jpg\n",
      "\thttp://www.rembrandtpainting.net/complete_catalogue/../slf_prtrts/slf_prtrts_imgs/slf_prtrt_with_beret_unfinished.jpg\n",
      "\thttp://www.rembrandtpainting.net/slf_prtrts/slf_prtrts_imgs/slf_prtrt_with_beret_unfinished.jpg\n",
      "\thttp://www.rembrandtpainting.net/complete_catalogue/self_portraits/images/atrib_c.1659.jpg\n",
      "\thttp://www.rembrandtpainting.net/complete_catalogue/../slf_prtrts/slf_prtrts_imgs/slfprtrt_easel.jpg\n",
      "FAIL\n",
      "\thttp://www.rembrandtpainting.net/slf_prtrts/slf_prtrts_imgs/slfprtrt_easel.jpg\n",
      "\thttp://www.rembrandtpainting.net/complete_catalogue/../slf_prtrts/slf_prtrts_imgs/slfprtrt_st_paul.jpg\n",
      "\thttp://www.rembrandtpainting.net/slf_prtrts/slf_prtrts_imgs/slfprtrt_st_paul.jpg\n",
      "\thttp://www.rembrandtpainting.net/complete_catalogue/../slf_prtrts/slf_prtrts_imgs/slfprtrt_as_zeus.jpg\n",
      "\thttp://www.rembrandtpainting.net/slf_prtrts/slf_prtrts_imgs/slfprtrt_as_zeus.jpg\n",
      "\thttp://www.rembrandtpainting.net/complete_catalogue/../slf_prtrts/slf_prtrts_imgs/slfprtrt_two_circles.jpg\n",
      "FAIL\n",
      "\thttp://www.rembrandtpainting.net/slf_prtrts/slf_prtrts_imgs/slfprtrt_two_circles.jpg\n",
      "\thttp://www.rembrandtpainting.net/complete_catalogue/../slf_prtrts/slf_prtrts_imgs/slfprtrt_age_63.jpg\n",
      "FAIL\n",
      "\thttp://www.rembrandtpainting.net/slf_prtrts/slf_prtrts_imgs/slfprtrt_age_63.jpg\n",
      "\thttp://www.rembrandtpainting.net/complete_catalogue/../slf_prtrts/slf_prtrts_imgs/slfprtrt_c.1669.jpg\n",
      "\thttp://www.rembrandtpainting.net/slf_prtrts/slf_prtrts_imgs/slfprtrt_c.1669.jpg\n",
      "\thttp://www.rembrandtpainting.net/complete_catalogue/../slf_prtrts/slf_prtrts_imgs/slfprtrt_c.1669.jpg\n",
      "FAIL\n",
      "\thttp://www.rembrandtpainting.net/slf_prtrts/slf_prtrts_imgs/slfprtrt_1969.jpg\n",
      "\thttp://www.rembrandtpainting.net/complete_catalogue/portraits/images/aa.jpg\n",
      "\thttp://www.rembrandtpainting.net/complete_catalogue/portraits/images/degyhen.jpg\n",
      "\thttp://www.rembrandtpainting.net/rmbrndt_1620-35/1620_35_images/potrait_man.jpg\n",
      "\thttp://www.rembrandtpainting.net/complete_catalogue/portraits/images/ad.jpg\n",
      "\thttp://www.rembrandtpainting.net/complete_catalogue/portraits/images/ae.jpg\n",
      "\thttp://www.rembrandtpainting.net/complete_catalogue/portraits/images/af.jpg\n",
      "\thttp://www.rembrandtpainting.net/rmbrndt_1620-35/1620_35_images/young_woman.jpg\n",
      "\thttp://www.rembrandtpainting.net/complete_catalogue/portraits/images/womanoval.jpg\n",
      "\thttp://www.rembrandtpainting.net/complete_catalogue/portraits/images/seateddwoman.jpg\n",
      "\thttp://www.rembrandtpainting.net/complete_catalogue/portraits/images/ovalman.jpg\n",
      "\thttp://www.rembrandtpainting.net/complete_catalogue/portraits/images/ba.jpg\n",
      "\thttp://www.rembrandtpainting.net/complete_catalogue/portraits/images/remdoomer.jpg\n",
      "\thttp://www.rembrandtpainting.net/complete_catalogue/portraits/images/bc.jpg\n",
      "\thttp://www.rembrandtpainting.net/rmbrndt_1636-1654/1636-54_images/bambeck_portrait.jpg\n",
      "\thttp://www.rembrandtpainting.net/rmbrndt_1636-1654/1636-54_images/agatha_bas.jpg\n",
      "\thttp://www.rembrandtpainting.net/complete_catalogue/portraits/images/martensorg.jpg\n",
      "\thttp://www.rembrandtpainting.net/complete_catalogue/portraits/images/metman.jpg\n",
      "\thttp://www.rembrandtpainting.net/rmbrndt_1655-1669/1655-69_images/pink.jpg\n",
      "\thttp://www.rembrandtpainting.net/complete_catalogue/portraits/images/geerhusband.jpg\n",
      "\thttp://www.rembrandtpainting.net/complete_catalogue/portraits/images/geer.jpg\n",
      "\thttp://www.rembrandtpainting.net/complete_catalogue/portraits/images/womanwithfan.jpg\n",
      "\thttp://www.rembrandtpainting.net/complete_catalogue/portraits/images/manfurhat.jpg\n",
      "\thttp://www.rembrandtpainting.net/complete_catalogue/portraits/images/martenlooten.jpg\n",
      "FAIL\n",
      "\thttp://www.rembrandtpainting.net/complete_catalogue/portraits/images/standingmanbook.jpg\n",
      "\thttp://www.rembrandtpainting.net/complete_catalogue/portraits/images/manrough.jpg\n",
      "\thttp://www.rembrandtpainting.net/complete_catalogue/portraits/images/ca.jpg\n",
      "\thttp://www.rembrandtpainting.net/rmbrndt_1636-1654/1636-54_images/jan_six.jpg\n",
      "\thttp://www.rembrandtpainting.net/complete_catalogue/portraits/images/handsclasped.jpg\n",
      "\thttp://www.rembrandtpainting.net/rmbrndt_1655-1669/1655-69_images/horseback.jpg\n",
      "\thttp://www.rembrandtpainting.net/complete_catalogue/portraits/images/217.jpg\n",
      "\thttp://www.rembrandtpainting.net/rmbrndt_1655-1669/1655-69_images/beret.jpg\n",
      "\thttp://www.rembrandtpainting.net/rmbrndt_1655-1669/1655-69_images/late_portrait_of_man.jpg\n",
      "\thttp://www.rembrandtpainting.net/rmbrndt_1655-1669/1655-69_images/late_old_man_portrait.jpg\n",
      "\thttp://www.rembrandtpainting.net/rmbrndt_1620-35/1620_35_images/almalia_solms.jpg\n",
      "\thttp://www.rembrandtpainting.net/rmbrndt_1636-1654/1636-54_images/trip.jpg\n",
      "\thttp://www.rembrandtpainting.net/rmbrndt_1636-1654/1636-54_images/new_portrait_of_a_woman.jpg\n",
      "\thttp://www.rembrandtpainting.net/complete_catalogue/portraits/images/ovalwoman.jpg\n",
      "\thttp://www.rembrandtpainting.net/complete_catalogue/portraits/images/geerclose.jpg\n",
      "FAIL\n",
      "\thttp://www.rembrandtpainting.net/rmbrndt_1620-35/1620_35_images/anatomy_lesson.jpg\n",
      "\thttp://www.rembrandtpainting.net/complete_catalogue/portraits/images/youngcouple.jpg\n",
      "\thttp://www.rembrandtpainting.net/rmbrndt_1620-35/1620_35_images/rijskens_and_wife.jpg\n",
      "\thttp://www.rembrandtpainting.net/rmbrndt_1636-1654/1636-54_images/mennonite_preacher.jpg\n",
      "FAIL\n",
      "\thttp://www.rembrandtpainting.net/rmbrndt_1636-1654/1636-54_images/night_watch.jpg\n",
      "\thttp://www.rembrandtpainting.net/rmbrndt_1655-1669/1655-69_images/joan_deyman.jpg\n",
      "\thttp://www.rembrandtpainting.net/rmbrndt_1655-1669/1655-69_images/syndics.jpg\n",
      "FAIL\n",
      "\thttp://www.rembrandtpainting.net/rmbrndt_1655-1669/1655-69_images/jewsih_bride.jpg\n",
      "\thttp://www.rembrandtpainting.net/rmbrndt_1636-1654/1636-54_images/window_sill.jpg\n",
      "\thttp://www.rembrandtpainting.net/rmbrndt_1655-1669/1655-69_images/old_woman.jpg\n",
      "\thttp://www.rembrandtpainting.net/complete_catalogue/portraits/images/manwithberet.jpg\n",
      "\thttp://www.rembrandtpainting.net/rmbrndt_1636-1654/1636-54_images/oldman_in_costume.jpg\n",
      "FAIL\n",
      "\thttp://www.rembrandtpainting.net/complete_catalogue/portraits/images/darkface_159.jpg\n",
      "\thttp://www.rembrandtpainting.net/rmbrndt_1636-1654/1636-54_images/old_costume.jpg\n",
      "FAIL\n",
      "\thttp://www.rembrandtpainting.net/complete_catalogue/portraits/images/moors.jpg\n",
      "\thttp://www.rembrandtpainting.net/rmbrndt_1620-35/1620_35_images/prayer.jpg\n",
      "\thttp://www.rembrandtpainting.net/rmbrndt_1620-35/1620_35_images/rembrandt's_mother_bis.jpg\n",
      "\thttp://www.rembrandtpainting.net/rmbrndt_1620-35/1620_35_images/officer.jpg\n",
      "\thttp://www.rembrandtpainting.net/rmbrndt_1620-35/1620_35_images/man_and_hat.jpg\n",
      "\thttp://www.rembrandtpainting.net/complete_catalogue/family_portraits/images/fatehr_bis.jpg\n",
      "\thttp://www.rembrandtpainting.net/complete_catalogue/family_portraits/images/father.jpg\n",
      "\thttp://www.rembrandtpainting.net/rmbrndt_1620-35/1620_35_images/hanna.jpg\n",
      "\thttp://www.rembrandtpainting.net/rmbrndt_1620-35/1620_35_images/old_man_gorget.jpg\n",
      "\thttp://www.rembrandtpainting.net/rmbrndt_1620-35/1620_35_images/profile.jpg\n",
      "\thttp://www.rembrandtpainting.net/complete_catalogue/family_portraits/images/sister.jpg\n",
      "\thttp://www.rembrandtpainting.net/rmbrndt_1620-35/1620_35_images/female_portrait.jpg\n",
      "\thttp://www.rembrandtpainting.net/rmbrndt_1620-35/1620_35_images/saskia_as_flora.jpg\n",
      "\thttp://www.rembrandtpainting.net/rmbrndt_1636-1654/1636-54_images/saskia_and_hat.jpg\n",
      "\thttp://www.rembrandtpainting.net/complete_catalogue/family_portraits/images/saskia_as_flora.jpg\n",
      "\thttp://www.rembrandtpainting.net/complete_catalogue/family_portraits/images/saskia_1634-53.jpg\n",
      "\thttp://www.rembrandtpainting.net/rmbrndt_1636-1654/1636-54_images/flora.jpg\n",
      "\thttp://www.rembrandtpainting.net/complete_catalogue/family_portraits/images/saskia_flora.jpg\n",
      "\thttp://www.rembrandtpainting.net/rmbrndt_1636-1654/1636-54_images/saskiabis.jpg\n",
      "\thttp://www.rembrandtpainting.net/complete_catalogue/family_portraits/images/stoffels_54.jpg\n",
      "\thttp://www.rembrandtpainting.net/rmbrndt_1636-1654/1636-54_images/saskia_bathing.jpg\n",
      "\thttp://www.rembrandtpainting.net/complete_catalogue/family_portraits/images/brother.jpg\n",
      "\thttp://www.rembrandtpainting.net/rmbrndt_1655-1669/1655-69_images/furcoat.jpg\n",
      "\thttp://www.rembrandtpainting.net/complete_catalogue/family_portraits/images/titus_at_desk.jpg\n",
      "\thttp://www.rembrandtpainting.net/complete_catalogue/family_portraits/images/stoffels.jpg\n",
      "\thttp://www.rembrandtpainting.net/complete_catalogue/family_portraits/images/stoffels_flora.jpg\n",
      "\thttp://www.rembrandtpainting.net/rmbrndt_1655-1669/1655-69_images/woman_at_open_door.jpg\n",
      "\thttp://www.rembrandtpainting.net/rmbrndt_1655-1669/1655-69_images/young_boy.jpg\n",
      "\thttp://www.rembrandtpainting.net/complete_catalogue/family_portraits/images/titus_1657_58.jpg\n",
      "\thttp://www.rembrandtpainting.net/complete_catalogue/family_portraits/images/titus_1658_59.jpg\n",
      "\thttp://www.rembrandtpainting.net/rmbrndt_1655-1669/1655-69_images/stoffels.jpg\n",
      "\thttp://www.rembrandtpainting.net/complete_catalogue/family_portraits/images/titus_c.1660.jpg\n",
      "\thttp://www.rembrandtpainting.net/rmbrndt_1655-1669/1655-69_images/monk.jpg\n",
      "\thttp://www.rembrandtpainting.net/complete_catalogue/family_portraits/images/titus_1660.jpg\n",
      "\thttp://www.rembrandtpainting.net/rmbrndt_1655-1669/1655-69_images/juno.jpg\n",
      "\thttp://www.rembrandtpainting.net/complete_catalogue/../rmbrndt_1620-35/1620_35_images/musical_allegory.jpg\n",
      "\thttp://www.rembrandtpainting.net/rmbrndt_1620-35/1620_35_images/musical_allegory.jpg\n",
      "FAIL\n",
      "\thttp://www.rembrandtpainting.net/rmbrndt_1620-35/1620_35_images/studio.jpg\n",
      "\thttp://www.rembrandtpainting.net/complete_catalogue/storia_b/images/allegory_idleness.jpg\n",
      "\thttp://www.rembrandtpainting.net/complete_catalogue/storia_b/../scholar_b&w.jpg\n",
      "\thttp://www.rembrandtpainting.net/complete_catalogue/storia_b/../stendard.jpg\n",
      "\thttp://www.rembrandtpainting.net/rmbrndt_1636-1654/1636-54_images/unnfinished.jpg\n"
     ]
    }
   ],
   "source": [
    "url = \"http://www.rembrandtpainting.net/complete_catalogue/\"\n",
    "basis_url = \"http://www.rembrandtpainting.net/\"\n",
    "\n",
    "count = 0\n",
    "\n",
    "for link in full_links: # voor iedere link in van de verschillende categorieën\n",
    "    response = requests.get(link)\n",
    "    soup = BeautifulSoup(response.content, 'html.parser')\n",
    "    page = soup.find_all('tr')\n",
    "\n",
    "    for row in page:\n",
    "        for anchor in row.find_all('a'):\n",
    "            link_image_page = url + anchor['href']\n",
    "            response = requests.get(link_image_page)\n",
    "            soup = BeautifulSoup(response.content, 'html.parser')\n",
    "\n",
    "            try:\n",
    "                div = soup.find('div',attrs={'id' : 'workimage'}) # de div ophalen waarin de image zich bevindt\n",
    "                img_src = div.find('img')['src'] # src tag van de image ophalen\n",
    "\n",
    "                if \"../../\" in img_src:\n",
    "                    img_link = basis_url + img_src[6:len(img_src)] # 6 is de index van de laatste slash in ../../\n",
    "\n",
    "                else:\n",
    "                    img_link = link_image_page[0:link_image_page.rfind(\"/\")+1] + img_src\n",
    "\n",
    "\n",
    "\n",
    "                file_name = f\"Rembrandt {count}.jpg\" # formaat van image naam --> Rembrandt 0.jpg, Rembrandt 1.jpg, ...\n",
    "                urllib.request.urlretrieve(img_link, file_name) # downloaden van de image\n",
    "                print(f\"\\t{img_link}\")  # printen succesvol gedownloade images (met een tab ervoor om duidelijk onderscheid te maken tussen\n",
    "                                        # succesvolle en gefaalde images\n",
    "                count += 1\n",
    "\n",
    "            except:\n",
    "                print(f\"FAIL\") # printen gefaalde images\n"
   ],
   "metadata": {
    "collapsed": false
   }
  },
  {
   "cell_type": "markdown",
   "source": [
    "Aantal gescrapte images printen, we bekomen nu 254 images. Dit is al veel beter dan de 120 die ik in mijn eerste poging kreeg."
   ],
   "metadata": {
    "collapsed": false
   }
  },
  {
   "cell_type": "code",
   "execution_count": 8,
   "outputs": [
    {
     "name": "stdout",
     "output_type": "stream",
     "text": [
      "254\n"
     ]
    }
   ],
   "source": [
    "print(count)"
   ],
   "metadata": {
    "collapsed": false
   }
  },
  {
   "cell_type": "markdown",
   "source": [
    "Terug de project root folder de actieve folder maken"
   ],
   "metadata": {
    "collapsed": false
   }
  },
  {
   "cell_type": "code",
   "execution_count": 9,
   "outputs": [],
   "source": [
    "os.chdir(\"../../..\")  # terug root directory van het project"
   ],
   "metadata": {
    "collapsed": false
   }
  },
  {
   "cell_type": "code",
   "execution_count": 10,
   "outputs": [
    {
     "data": {
      "text/plain": "'C:\\\\My Projects\\\\Opdracht-schilders'"
     },
     "execution_count": 10,
     "metadata": {},
     "output_type": "execute_result"
    }
   ],
   "source": [
    "os.getcwd()"
   ],
   "metadata": {
    "collapsed": false
   }
  }
 ],
 "metadata": {
  "kernelspec": {
   "display_name": "Python 3.9.13 64-bit (microsoft store)",
   "language": "python",
   "name": "python3"
  },
  "language_info": {
   "codemirror_mode": {
    "name": "ipython",
    "version": 3
   },
   "file_extension": ".py",
   "mimetype": "text/x-python",
   "name": "python",
   "nbconvert_exporter": "python",
   "pygments_lexer": "ipython3",
   "version": "3.9.13"
  },
  "orig_nbformat": 4,
  "vscode": {
   "interpreter": {
    "hash": "60a9a335d522aefda6eaa043709c97f9746d66f97309f2f09eaf1fc365ea87e3"
   }
  }
 },
 "nbformat": 4,
 "nbformat_minor": 2
}
