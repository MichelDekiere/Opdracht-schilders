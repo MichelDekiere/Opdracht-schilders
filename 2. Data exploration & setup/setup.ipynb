{
 "cells": [
  {
   "cell_type": "markdown",
   "metadata": {},
   "source": [
    "# Opdracht schilderijen"
   ]
  },
  {
   "cell_type": "code",
   "execution_count": 1,
   "metadata": {},
   "outputs": [],
   "source": [
    "import tensorflow as tf\n",
    "import os, pathlib\n",
    "from dataset_module import dataset_creation"
   ]
  },
  {
   "cell_type": "code",
   "execution_count": 3,
   "outputs": [
    {
     "data": {
      "text/plain": "'C:\\\\My Projects\\\\Opdracht-schilders'"
     },
     "execution_count": 3,
     "metadata": {},
     "output_type": "execute_result"
    }
   ],
   "source": [
    "# deze code verzekerd dat onze current working directory onze project root folder is, zodat de code werkt zoals verwacht\n",
    "while os.getcwd() != \"C:\\\\My Projects\\\\Opdracht-schilders\":\n",
    "    os.chdir('..')\n",
    "\n",
    "os.getcwd()"
   ],
   "metadata": {
    "collapsed": false
   }
  },
  {
   "cell_type": "markdown",
   "metadata": {},
   "source": [
    "## Opzetten omgeving\n",
    "\n",
    "Ik heb gewerkt met mijn lokale GPU. Op dit op te zetten maakte ik gebruik van deze [bron](https://www.youtube.com/watch?v=IubEtS2JAiY&t=714s&ab_channel=deeplizard). Ik downloadde de CUDA toolkit en CuDNN, maar maakte geen gebruik van anaconda. Ik heb dit zowel op mijn laptop als op mijn desktop proberen op te zetten. Op mijn laptop is dit zonder enige problemen gelukt, om mijn desktop is dit uiteindelijk niet gelukt.\n",
    "\n",
    "Ik maakte gebruik van de ingebouwde NVIDIA Geforce RTX 2060 in mijn laptop."
   ]
  },
  {
   "cell_type": "code",
   "execution_count": 5,
   "outputs": [
    {
     "name": "stdout",
     "output_type": "stream",
     "text": [
      "GPU available: True\n"
     ]
    }
   ],
   "source": [
    "print(f\"GPU available: {tf.test.is_gpu_available()}\")"
   ],
   "metadata": {
    "collapsed": false
   }
  },
  {
   "cell_type": "markdown",
   "metadata": {},
   "source": [
    "## Data exploration"
   ]
  },
  {
   "cell_type": "markdown",
   "metadata": {},
   "source": [
    "Check hoeveel images per schilder."
   ]
  },
  {
   "cell_type": "code",
   "execution_count": 6,
   "metadata": {},
   "outputs": [
    {
     "name": "stdout",
     "output_type": "stream",
     "text": [
      "File count Mondriaan: 330\n",
      "File count Picasso: 1529\n",
      "File count Rembrandt: 254\n",
      "File count Rubens: 682\n",
      "File count Van Gogh: 775\n"
     ]
    }
   ],
   "source": [
    "for painter in os.listdir(\"datasets/paintings\"):\n",
    "    print(f'File count {painter}: {dataset_creation.check_amount_of_images(f\"datasets/paintings/{painter}\")}')"
   ]
  },
  {
   "cell_type": "markdown",
   "metadata": {},
   "source": [
    "We zien dat de data zeer ongebalanceerd is, we kunnen dit oplossen door het willekeurig kopiëren van samples in de klassen met te weinig samples (oversampled methode).\n",
    "De dubbels zullen dan worden weggewerkt met data augmentation technieken.\n",
    "\n",
    "We kunnen ook schilderijen van Picasso achterwege laten tot we enzelfde aantal schilderijen hebben in iedere klasse (undersampled methode), maar dit lijkt me jammer dat we deze schilderijen hebben maar toch niet zouden gebruiken voor het model.\n",
    "We kunnen experimenteren met beide, maar ik zal beginnen met de oversampled methode."
   ]
  },
  {
   "cell_type": "code",
   "execution_count": 7,
   "metadata": {},
   "outputs": [
    {
     "name": "stdout",
     "output_type": "stream",
     "text": [
      "File count Mondriaan: 1529\n",
      "File count Picasso: 1529\n",
      "File count Rembrandt: 1529\n",
      "File count Rubens: 1529\n",
      "File count Van Gogh: 1529\n"
     ]
    }
   ],
   "source": [
    "dataset_creation.balance_dataset(\"datasets/paintings\")\n",
    "\n",
    "for painter in os.listdir(\"datasets/paintings\"):\n",
    "    print(f'File count {painter}: {dataset_creation.check_amount_of_images(f\"datasets/paintings/{painter}\")}')"
   ]
  },
  {
   "cell_type": "markdown",
   "metadata": {},
   "source": [
    "Iedere klasse heeft nu hetzelfde aantal images, de dataset is nu wel gebalanceerd."
   ]
  },
  {
   "cell_type": "markdown",
   "metadata": {},
   "source": [
    "### Data cleanup"
   ]
  },
  {
   "cell_type": "code",
   "execution_count": 4,
   "metadata": {},
   "outputs": [],
   "source": [
    "# rename the files to 0.jpg, 1.jpg, ...\n",
    "for painter in os.listdir(\"datasets/paintings\"):\n",
    "    dataset_creation.rename_files(f\"datasets/paintings/{painter}\")"
   ]
  },
  {
   "cell_type": "markdown",
   "metadata": {},
   "source": [
    "### Opsplitsen van de data in train-, validatie en testset"
   ]
  },
  {
   "cell_type": "code",
   "execution_count": 5,
   "metadata": {},
   "outputs": [],
   "source": [
    "original_dir = pathlib.Path(\"datasets/paintings\")\n",
    "new_base_dir = pathlib.Path(\"datasets/dataset\")\n",
    "\n",
    "# make_subset van de dataset_creation module\n",
    "dataset_creation.make_subset(original_dir, new_base_dir, \"train\", start_index=0, end_index=918) # 60% trainingsset\n",
    "dataset_creation.make_subset(original_dir, new_base_dir, \"validation\", start_index=918, end_index=1223) # 20% validatieset\n",
    "dataset_creation.make_subset(original_dir, new_base_dir, \"test\", start_index=1223, end_index=1529) # 20% testset"
   ]
  }
 ],
 "metadata": {
  "kernelspec": {
   "display_name": "Python 3.9.13 64-bit (microsoft store)",
   "language": "python",
   "name": "python3"
  },
  "language_info": {
   "codemirror_mode": {
    "name": "ipython",
    "version": 3
   },
   "file_extension": ".py",
   "mimetype": "text/x-python",
   "name": "python",
   "nbconvert_exporter": "python",
   "pygments_lexer": "ipython3",
   "version": "3.9.13"
  },
  "orig_nbformat": 4,
  "vscode": {
   "interpreter": {
    "hash": "60a9a335d522aefda6eaa043709c97f9746d66f97309f2f09eaf1fc365ea87e3"
   }
  }
 },
 "nbformat": 4,
 "nbformat_minor": 2
}
