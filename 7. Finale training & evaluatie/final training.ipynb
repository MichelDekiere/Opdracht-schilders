{
 "cells": [
  {
   "cell_type": "code",
   "execution_count": 31,
   "metadata": {
    "collapsed": true
   },
   "outputs": [],
   "source": [
    "import tensorflow as tf\n",
    "from tensorflow import keras\n",
    "from keras import layers\n",
    "import os\n",
    "import numpy as np\n",
    "from sklearn.model_selection import train_test_split\n",
    "from sklearn.metrics import confusion_matrix, ConfusionMatrixDisplay\n",
    "import matplotlib.pyplot as plt\n",
    "from Callbacks import RealTimePlotCallback\n",
    "from dataset_module import dataset_creation"
   ]
  },
  {
   "cell_type": "code",
   "execution_count": 18,
   "outputs": [
    {
     "data": {
      "text/plain": "'C:\\\\My Projects\\\\Opdracht-schilders\\\\7. Finale training & evaluatie'"
     },
     "execution_count": 18,
     "metadata": {},
     "output_type": "execute_result"
    }
   ],
   "source": [
    "while os.getcwd() != \"C:\\\\My Projects\\\\Opdracht-schilders\":\n",
    "    os.chdir('..')\n",
    "\n",
    "os.chdir(\"7. Finale training & evaluatie\")\n",
    "os.getcwd()"
   ],
   "metadata": {
    "collapsed": false
   }
  },
  {
   "cell_type": "code",
   "execution_count": 7,
   "outputs": [],
   "source": [
    "classes = os.listdir(\"../../datasets/paintings\")"
   ],
   "metadata": {
    "collapsed": false
   }
  },
  {
   "cell_type": "code",
   "execution_count": 23,
   "outputs": [
    {
     "name": "stdout",
     "output_type": "stream",
     "text": [
      "..\\datasets\\paintings\\Picasso\\bust-of-woman-with-yellow-ribbon-jacqueline-1962.jpg --> FAILED\n",
      "..\\datasets\\paintings\\Picasso\\café-in-royan-1940.jpg!Portrait.jpg --> FAILED\n",
      "..\\datasets\\paintings\\Picasso\\café-royan-1940 (2).jpg --> FAILED\n",
      "..\\datasets\\paintings\\Picasso\\café-royan-1940.jpg --> FAILED\n",
      "..\\datasets\\paintings\\Picasso\\man-and-woman-in-café-1903.jpg --> FAILED\n",
      "..\\datasets\\paintings\\Picasso\\man-and-woman-in-café-study-1903.jpg!Portrait.jpg --> FAILED\n",
      "..\\datasets\\paintings\\Picasso\\man-and-woman-with-child-in-café-1903.jpg!Portrait.jpg --> FAILED\n",
      "..\\datasets\\paintings\\Picasso\\pablo-picasso-and-sebastìa-junyer-vidal-arrives-to-paris-1901-1.jpg --> FAILED\n",
      "..\\datasets\\paintings\\Picasso\\pablo-picasso-and-sebastìa-junyer-vidal-arrives-to-paris-1901.jpg!Portrait.jpg --> FAILED\n",
      "..\\datasets\\paintings\\Picasso\\pierrot-and-harlequin-on-the-terrace-of-café-1920.jpg --> FAILED\n",
      "..\\datasets\\paintings\\Picasso\\portrait-of-bibi-la-purée-1901.jpg --> FAILED\n",
      "..\\datasets\\paintings\\Picasso\\portrait-of-léonide-massine-1919.jpg --> FAILED\n",
      "..\\datasets\\paintings\\Picasso\\portrait-of-marie-thérèse-walter-1937-1.jpg --> FAILED\n",
      "..\\datasets\\paintings\\Picasso\\portrait-of-marie-thérèse-walter-1937.jpg!Portrait.jpg --> FAILED\n",
      "..\\datasets\\paintings\\Picasso\\portrait-of-marie-thérèse-walter-with-garland-1937.jpg!Portrait.jpg --> FAILED\n",
      "..\\datasets\\paintings\\Picasso\\portrait-of-nusch-éluard-1937.jpg!Portrait.jpg --> FAILED\n",
      "..\\datasets\\paintings\\Picasso\\portrait-of-nusch-éluard-1941.jpg --> FAILED\n",
      "..\\datasets\\paintings\\Picasso\\portrait-of-paul-éluard-1937.jpg --> FAILED\n",
      "..\\datasets\\paintings\\Picasso\\portrait-of-sebastià-junyent-sans-1904.jpg!Portrait.jpg --> FAILED\n",
      "..\\datasets\\paintings\\Picasso\\the-catalan-sculptor-manolo-manuel-hugué-1904.jpg --> FAILED\n",
      "..\\datasets\\paintings\\Picasso\\woman-with-hat-1962-1.jpg --> FAILED\n",
      "..\\datasets\\paintings\\Rubens\\0_Ferdinand_Alvare_de_Tolède_-_Pierre_Paul_Rubens.JPG --> FAILED\n",
      "..\\datasets\\paintings\\Rubens\\0_Ixion_roi_des_Laphites_trompé_par_Junon_qu_il_voulait_séduire_-_Pierre_Paul_Rubens.JPG --> FAILED\n",
      "..\\datasets\\paintings\\Rubens\\0_La_Pêche_miraculeuse_-_P.P._Rubens_-_Wallraf_Richards_Museum,_Köln_(2).JPG --> FAILED\n",
      "..\\datasets\\paintings\\Rubens\\0_La_Sagesse_victorieuse_de_la_guerre_et_de_la_discorde_-_Rubens_-_Musée_royaux_des_Beaux-Arts_de_Belgique_(2).JPG --> FAILED\n",
      "..\\datasets\\paintings\\Rubens\\0_Le_Massacre_des_Innocents_d_après_P.P._Rubens_-_Musées_royaux_des_beaux-arts_de_Belgique_(2).JPG --> FAILED\n",
      "..\\datasets\\paintings\\Rubens\\0_Prométhée_supplicié_-_Rubens_-_Snyders_-_Philadelphia_Museum_of_Art_(W1950-3-1).JPG --> FAILED\n",
      "..\\datasets\\paintings\\Rubens\\0_Saint_Sébastien_secouru_par_les_anges_-_Pierre_Paul_Rubens.JPG --> FAILED\n",
      "..\\datasets\\paintings\\Rubens\\274px-0_Portrait_d_une_jeune_femme_avec_un_rosaire_-_P.P._Rubens_-_Musée_Thyssen-Bornemisza_(2).jpeg --> FAILED\n",
      "..\\datasets\\paintings\\Rubens\\312px-0_Vénus_et_Cupidon_-_P.P._Rubens_-_Musée_Thyssen-Bornemisza_(2).jpeg --> FAILED\n",
      "..\\datasets\\paintings\\Rubens\\the-marriage-of-henri-iv-of-france-and-marie-de-médici-1630.jpg!HalfHD.jpg --> FAILED\n"
     ]
    }
   ],
   "source": [
    "(data, labels) = dataset_creation.create_data_with_labels(\"../datasets/paintings\")\n",
    "# nu paintings van volledige dataset ophalen\n",
    "\n",
    "X_train, X_test, y_train, y_test = train_test_split(data, labels, test_size = 0.2, random_state = 5) # random_state om telkens dezelfde uitkomt te krijgen\n"
   ],
   "metadata": {
    "collapsed": false
   }
  },
  {
   "cell_type": "markdown",
   "source": [
    "# Finale training gekozen model"
   ],
   "metadata": {
    "collapsed": false
   }
  },
  {
   "cell_type": "markdown",
   "source": [
    "We zagen in '5.3 Optimizer & learning rate' (waar we dit model ook kozen) dat het model na 30 epochs niet echt meer verbeterd. Er treed niet meteen overfitting op, maar de accuracy op de validatie set verbeterde niet meer. Dus zal ik dit finale model trainen voor 30 epochs."
   ],
   "metadata": {
    "collapsed": false
   }
  },
  {
   "cell_type": "code",
   "execution_count": 24,
   "outputs": [],
   "source": [
    "conv_base = keras.applications.ResNet50(\n",
    "    weights=\"imagenet\",\n",
    "    include_top=False)\n",
    "\n",
    "# alle lagen behalve de laatste 4 freezen\n",
    "conv_base.trainable = True\n",
    "for layer in conv_base.layers[:-4]:\n",
    "    layer.trainable = False\n",
    "\n",
    "input_layer = keras.Input(shape=(180, 180, 3))\n",
    "x = conv_base(input_layer)\n",
    "x = layers.Flatten()(x)\n",
    "x = layers.Dense(256)(x)\n",
    "x = layers.Dropout(0.5)(x)\n",
    "outputs = layers.Dense(5, activation=\"softmax\")(x)\n",
    "\n",
    "model = keras.Model(input_layer, outputs)\n",
    "\n",
    "\n",
    "model.compile(loss=\"sparse_categorical_crossentropy\",\n",
    "     optimizer=keras.optimizers.RMSprop(learning_rate=1e-6),\n",
    "     metrics=[\"accuracy\"])"
   ],
   "metadata": {
    "collapsed": false
   }
  },
  {
   "cell_type": "code",
   "execution_count": 25,
   "outputs": [
    {
     "name": "stdout",
     "output_type": "stream",
     "text": [
      "Epoch 1/30\n",
      "89/89 [==============================] - 11s 91ms/step - loss: 3.1853 - accuracy: 0.4267\n",
      "Epoch 2/30\n",
      "89/89 [==============================] - 8s 86ms/step - loss: 2.2506 - accuracy: 0.5507\n",
      "Epoch 3/30\n",
      "89/89 [==============================] - 8s 86ms/step - loss: 1.7839 - accuracy: 0.6256\n",
      "Epoch 4/30\n",
      "89/89 [==============================] - 8s 86ms/step - loss: 1.4058 - accuracy: 0.6856\n",
      "Epoch 5/30\n",
      "89/89 [==============================] - 8s 86ms/step - loss: 1.1809 - accuracy: 0.7280\n",
      "Epoch 6/30\n",
      "89/89 [==============================] - 8s 86ms/step - loss: 1.0310 - accuracy: 0.7556\n",
      "Epoch 7/30\n",
      "89/89 [==============================] - 8s 88ms/step - loss: 0.8834 - accuracy: 0.7708\n",
      "Epoch 8/30\n",
      "89/89 [==============================] - 8s 89ms/step - loss: 0.8554 - accuracy: 0.7983\n",
      "Epoch 9/30\n",
      "89/89 [==============================] - 8s 89ms/step - loss: 0.7554 - accuracy: 0.8057\n",
      "Epoch 10/30\n",
      "89/89 [==============================] - 8s 89ms/step - loss: 0.6679 - accuracy: 0.8252\n",
      "Epoch 11/30\n",
      "89/89 [==============================] - 8s 88ms/step - loss: 0.5810 - accuracy: 0.8425\n",
      "Epoch 12/30\n",
      "89/89 [==============================] - 8s 86ms/step - loss: 0.4968 - accuracy: 0.8601\n",
      "Epoch 13/30\n",
      "89/89 [==============================] - 8s 86ms/step - loss: 0.4924 - accuracy: 0.8488\n",
      "Epoch 14/30\n",
      "89/89 [==============================] - 8s 86ms/step - loss: 0.4335 - accuracy: 0.8771\n",
      "Epoch 15/30\n",
      "89/89 [==============================] - 8s 86ms/step - loss: 0.3990 - accuracy: 0.8746\n",
      "Epoch 16/30\n",
      "89/89 [==============================] - 8s 86ms/step - loss: 0.3904 - accuracy: 0.8831\n",
      "Epoch 17/30\n",
      "89/89 [==============================] - 8s 86ms/step - loss: 0.3243 - accuracy: 0.8951\n",
      "Epoch 18/30\n",
      "89/89 [==============================] - 8s 86ms/step - loss: 0.3334 - accuracy: 0.8990\n",
      "Epoch 19/30\n",
      "89/89 [==============================] - 8s 86ms/step - loss: 0.3147 - accuracy: 0.9075\n",
      "Epoch 20/30\n",
      "89/89 [==============================] - 8s 86ms/step - loss: 0.2706 - accuracy: 0.9135\n",
      "Epoch 21/30\n",
      "89/89 [==============================] - 8s 86ms/step - loss: 0.2289 - accuracy: 0.9276\n",
      "Epoch 22/30\n",
      "89/89 [==============================] - 8s 86ms/step - loss: 0.2035 - accuracy: 0.9318\n",
      "Epoch 23/30\n",
      "89/89 [==============================] - 8s 86ms/step - loss: 0.2120 - accuracy: 0.9279\n",
      "Epoch 24/30\n",
      "89/89 [==============================] - 8s 86ms/step - loss: 0.1890 - accuracy: 0.9407\n",
      "Epoch 25/30\n",
      "89/89 [==============================] - 8s 86ms/step - loss: 0.1794 - accuracy: 0.9382\n",
      "Epoch 26/30\n",
      "89/89 [==============================] - 8s 86ms/step - loss: 0.1674 - accuracy: 0.9452\n",
      "Epoch 27/30\n",
      "89/89 [==============================] - 8s 86ms/step - loss: 0.1520 - accuracy: 0.9477\n",
      "Epoch 28/30\n",
      "89/89 [==============================] - 8s 86ms/step - loss: 0.1725 - accuracy: 0.9452\n",
      "Epoch 29/30\n",
      "89/89 [==============================] - 8s 86ms/step - loss: 0.1184 - accuracy: 0.9583\n",
      "Epoch 30/30\n",
      "89/89 [==============================] - 8s 85ms/step - loss: 0.1235 - accuracy: 0.9583\n"
     ]
    }
   ],
   "source": [
    "history = model.fit(\n",
    "         X_train, y_train,\n",
    "         epochs=30\n",
    "        )"
   ],
   "metadata": {
    "collapsed": false
   }
  },
  {
   "cell_type": "code",
   "execution_count": 26,
   "outputs": [],
   "source": [
    "keras.models.save_model(model, filepath='final_model.keras')"
   ],
   "metadata": {
    "collapsed": false
   }
  },
  {
   "cell_type": "markdown",
   "source": [
    "Finale evaluatie van training op volledige testset (deze keer zonder duplicaten)"
   ],
   "metadata": {
    "collapsed": false
   }
  },
  {
   "cell_type": "code",
   "execution_count": 27,
   "outputs": [
    {
     "name": "stdout",
     "output_type": "stream",
     "text": [
      "23/23 [==============================] - 3s 92ms/step - loss: 0.4325 - accuracy: 0.9040\n"
     ]
    },
    {
     "data": {
      "text/plain": "[0.43246036767959595, 0.903954803943634]"
     },
     "execution_count": 27,
     "metadata": {},
     "output_type": "execute_result"
    }
   ],
   "source": [
    "model = keras.models.load_model(\"final_model.keras\")\n",
    "model.evaluate(X_test, y_test)"
   ],
   "metadata": {
    "collapsed": false
   }
  },
  {
   "cell_type": "code",
   "execution_count": 32,
   "outputs": [
    {
     "name": "stdout",
     "output_type": "stream",
     "text": [
      "23/23 [==============================] - 3s 77ms/step\n"
     ]
    },
    {
     "data": {
      "text/plain": "<Figure size 640x480 with 2 Axes>",
      "image/png": "[encoded data removed]"
     },
     "metadata": {},
     "output_type": "display_data"
    }
   ],
   "source": [
    "cm = confusion_matrix(y_true=y_test, y_pred=np.argmax(model.predict(X_test), axis=-1))\n",
    "ConfusionMatrixDisplay(cm, display_labels=classes).plot()\n",
    "plt.show()"
   ],
   "metadata": {
    "collapsed": false
   }
  }
 ],
 "metadata": {
  "kernelspec": {
   "display_name": "Python 3",
   "language": "python",
   "name": "python3"
  },
  "language_info": {
   "codemirror_mode": {
    "name": "ipython",
    "version": 2
   },
   "file_extension": ".py",
   "mimetype": "text/x-python",
   "name": "python",
   "nbconvert_exporter": "python",
   "pygments_lexer": "ipython2",
   "version": "2.7.6"
  }
 },
 "nbformat": 4,
 "nbformat_minor": 0
}
