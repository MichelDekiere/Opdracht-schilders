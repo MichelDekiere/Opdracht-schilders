{
 "cells": [
  {
   "cell_type": "markdown",
   "metadata": {},
   "source": [
    "# Opdracht schilderijen"
   ]
  },
  {
   "cell_type": "code",
   "execution_count": 27,
   "metadata": {},
   "outputs": [],
   "source": [
    "import tensorflow as tf\n",
    "import os\n",
    "from pathlib import Path\n",
    "import matplotlib.pyplot as plt\n",
    "import numpy as np\n",
    "import cv2"
   ]
  },
  {
   "cell_type": "markdown",
   "metadata": {},
   "source": [
    "## Data cleanup"
   ]
  },
  {
   "cell_type": "markdown",
   "metadata": {},
   "source": [
    "Verwijderen van duplicaten en nummeren per schilder"
   ]
  },
  {
   "cell_type": "code",
   "execution_count": 28,
   "metadata": {},
   "outputs": [],
   "source": [
    "  \n",
    "# verwijderen van dubbels\n",
    "def remove_duplicates(dir_path):\n",
    "\n",
    "    \"\"\"\n",
    "    Verwijderen van duplicaten. Wanneer er een duplicaat aanwezig is komt er een (2) op het einde van de naam.\n",
    "    Sommige files heten bv. untitles-1970 (2).jpg!Portrait.jpg, daardoor moeten we eerst bij alle files het stuk na het uitroepteken weglaten,\n",
    "    dit gebeurd in de clean_paths functie.\n",
    "    Wanneer er een duplicaat gevonden wordt, wordt deze verwijderd.\n",
    "\n",
    "    Parameters:\n",
    "        dataset_dir: A string containing the path to a directory containing\n",
    "            subdirectories to different classes.\n",
    "    \"\"\"\n",
    "\n",
    "    clean_paths(dir_path)\n",
    "\n",
    "    for path in os.listdir(dir_path):\n",
    "        # check if current path is a file\n",
    "        if (os.path.isfile(os.path.join(dir_path, path)) and (\"(2).\" in path)):\n",
    "            os.remove(f\"{dir_path}/{path}\")\n",
    "\n",
    "\n",
    "\n",
    "def rename_files(dir_path):\n",
    "    \"\"\"\"\n",
    "    Hernoemen van de files naar de nummering per schilder\n",
    "\n",
    "    Parameters:\n",
    "        dataset_dir: A string containing the path to a directory containing\n",
    "            subdirectories to different classes.\n",
    "    \"\"\"\n",
    "    i = 0\n",
    "\n",
    "    for path in os.listdir(dir_path):\n",
    "        # check if current path is a file\n",
    "        if os.path.isfile(os.path.join(dir_path, path)):\n",
    "            os.rename(f\"{dir_path}/{path}\", f\"{dir_path}/{i}.jpg\")\n",
    "            i += 1\n",
    "        \n",
    "           \n",
    "# opkuisen path (bv. 1474.jpg!Portrait.jpg --> 1474.jpg)\n",
    "def clean_paths(dir_path):\n",
    "    \"\"\"\"\n",
    "    Sommige files heten bv. untitles-1970 (2).jpg!Portrait.jpg, daardoor moeten we eerst bij alle files het stuk na het uitroepteken weglaten.\n",
    "\n",
    "    Parameters:\n",
    "        dataset_dir: A string containing the path to a directory containing\n",
    "            subdirectories to different classes.\n",
    "    \"\"\"\n",
    "\n",
    "    for path in os.listdir(dir_path):\n",
    "        # check if current path is a file\n",
    "        if (os.path.isfile(os.path.join(dir_path, path)) and (\"!\" in path)):\n",
    "            \n",
    "            new_name = path.split(\"!\")[0]\n",
    "                        \n",
    "            if not os.path.isfile(os.path.join(dir_path, new_name)): # if file doesn't already exist\n",
    "                os.rename(f\"{dir_path}/{path}\", f\"{dir_path}/{new_name}\")\n",
    "            else:\n",
    "                os.remove(f\"{dir_path}/{path}\") # if file with new name already exist, remove file with bad name\n",
    "     \n",
    "\n",
    "\n",
    "        \n",
    "# data cleanup functies toepassen om iedere directory\n",
    "for painter in [\"Mondriaan\", \"Picasso\", \"Rubens\"]:\n",
    "    remove_duplicates(f\"data/{painter}\")\n",
    "    #clean_paths(f\"data/{painter}\")\n",
    "    rename_files(f\"data/{painter}\")"
   ]
  },
  {
   "cell_type": "markdown",
   "metadata": {},
   "source": [
    "## Inlezen data"
   ]
  },
  {
   "cell_type": "markdown",
   "metadata": {},
   "source": [
    "Data wordt ingelezen (en nog niet gepreprocessed). "
   ]
  },
  {
   "cell_type": "code",
   "execution_count": 29,
   "metadata": {},
   "outputs": [],
   "source": [
    "def create_data_with_labels(dataset_dir):\n",
    "    \n",
    "    image_paths_per_label = collect_paths_to_files(dataset_dir)\n",
    "\n",
    "    images = []\n",
    "    labels = []\n",
    "    for label, image_paths in image_paths_per_label.items():\n",
    "        for image_path in image_paths:\n",
    "\n",
    "            # print(str(image_path))\n",
    "\n",
    "            img = cv2.imread(str(image_path))\n",
    "\n",
    "            if(img is not None):\n",
    "                # print(f\"{i} {str(image_path)} --> succes\")\n",
    "                img = cv2.cvtColor(img, cv2.COLOR_BGR2RGB)\n",
    "                images.append(img)\n",
    "                \n",
    "                # print(label)\n",
    "                labels.append(label)       \n",
    "                      \n",
    "            else:\n",
    "                print(f\"{str(image_path)} --> FAILED\")\n",
    "                \n",
    "    # data = np.array([preprocess_image(image.astype(np.float32))\n",
    "    #             for image in images])\n",
    "    data = np.array(images)\n",
    "    labels = np.array(labels)\n",
    "        \n",
    "    return data, labels\n",
    "\n",
    "def collect_paths_to_files(dataset_dir):\n",
    "    \"\"\"Returns a dict with labels for each subdirectory of the given directory\n",
    "    as keys and lists of the subdirectory's contents as values.\n",
    "\n",
    "    Parameters:\n",
    "        dataset_dir: A string containing the path to a directory containing\n",
    "            subdirectories to different classes.\n",
    "    Returns:\n",
    "        image_paths_per_label: A dict with labels as keys and lists of file\n",
    "        paths as values.\n",
    "    \"\"\"\n",
    "    dataset_dir = Path(dataset_dir)\n",
    "    painter_dirs = [f for f in sorted(os.listdir(dataset_dir)) if not f.startswith('.')]\n",
    "    image_paths_per_label = {\n",
    "        label: [\n",
    "            dataset_dir / painter_dir / '{0}'.format(f)\n",
    "            for f in os.listdir(dataset_dir / painter_dir) if not f.startswith('.')\n",
    "        ]\n",
    "        for label, painter_dir in enumerate(painter_dirs)\n",
    "    }\n",
    "    return image_paths_per_label\n",
    "\n",
    "# def preprocess_image(image):\n",
    "#     \"\"\"Returns a preprocessed image.\n",
    "\n",
    "#     Parameters:\n",
    "#         image: A RGB image with pixel values in range [0, 255].\n",
    "#     Returns\n",
    "#         image: The preprocessed image.\n",
    "#     \"\"\"\n",
    "#     image = image / 255.\n",
    "#     image = cv2.resize(image, (100, 100))\n",
    "\n",
    "#     return image\n"
   ]
  },
  {
   "cell_type": "code",
   "execution_count": 30,
   "metadata": {},
   "outputs": [
    {
     "name": "stdout",
     "output_type": "stream",
     "text": [
      "data\\Picasso\\145.jpg --> FAILED\n",
      "data\\Picasso\\1480.jpg --> FAILED\n"
     ]
    },
    {
     "name": "stderr",
     "output_type": "stream",
     "text": [
      "C:\\Users\\Michel\\AppData\\Local\\Temp\\ipykernel_18252\\4123084604.py:27: VisibleDeprecationWarning: Creating an ndarray from ragged nested sequences (which is a list-or-tuple of lists-or-tuples-or ndarrays with different lengths or shapes) is deprecated. If you meant to do this, you must specify 'dtype=object' when creating the ndarray.\n",
      "  data = np.array(images)\n"
     ]
    }
   ],
   "source": [
    "(data, labels) = create_data_with_labels(\"data/\")"
   ]
  },
  {
   "cell_type": "markdown",
   "metadata": {},
   "source": [
    "## Data exploration"
   ]
  },
  {
   "cell_type": "code",
   "execution_count": 31,
   "metadata": {},
   "outputs": [
    {
     "name": "stdout",
     "output_type": "stream",
     "text": [
      "File count data/Mondriaan: 321\n",
      "File count data/Picasso: 1506\n",
      "File count data/Rubens: 617\n"
     ]
    }
   ],
   "source": [
    "def check_amount_of_images(dir_path):\n",
    "    count = 0\n",
    "    for path in os.listdir(dir_path):\n",
    "        # check if current path is a file\n",
    "        if os.path.isfile(os.path.join(dir_path, path)):\n",
    "            count += 1\n",
    "    print(f'File count {dir_path}: {count}')\n",
    "\n",
    "check_amount_of_images(\"data/Mondriaan\")\n",
    "check_amount_of_images(\"data/Picasso\")\n",
    "check_amount_of_images(\"data/Rubens\")"
   ]
  }
 ],
 "metadata": {
  "kernelspec": {
   "display_name": "Python 3.9.13 64-bit (microsoft store)",
   "language": "python",
   "name": "python3"
  },
  "language_info": {
   "codemirror_mode": {
    "name": "ipython",
    "version": 3
   },
   "file_extension": ".py",
   "mimetype": "text/x-python",
   "name": "python",
   "nbconvert_exporter": "python",
   "pygments_lexer": "ipython3",
   "version": "3.9.13"
  },
  "orig_nbformat": 4,
  "vscode": {
   "interpreter": {
    "hash": "60a9a335d522aefda6eaa043709c97f9746d66f97309f2f09eaf1fc365ea87e3"
   }
  }
 },
 "nbformat": 4,
 "nbformat_minor": 2
}
