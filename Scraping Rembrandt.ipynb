{
 "cells": [
  {
   "cell_type": "markdown",
   "metadata": {},
   "source": [
    "# Opdracht schilders"
   ]
  },
  {
   "cell_type": "code",
   "execution_count": 2,
   "metadata": {},
   "outputs": [],
   "source": [
    "import os\n",
    "import requests\n",
    "from bs4 import BeautifulSoup\n",
    "import urllib"
   ]
  },
  {
   "cell_type": "markdown",
   "metadata": {},
   "source": [
    "## Scraping Rembrandt schilderijen"
   ]
  },
  {
   "cell_type": "code",
   "execution_count": 6,
   "metadata": {},
   "outputs": [],
   "source": [
    "os.mkdir(\"data/Rembrandt\")      # aanmaken directory\n",
    "os.chdir(\"data/Rembrandt/\")     # deze directory active maken, zodat de gescrapete images hierin terecht komen"
   ]
  },
  {
   "cell_type": "code",
   "execution_count": 7,
   "metadata": {},
   "outputs": [],
   "source": [
    "time_period = [\"1626-35.htm\", \"1636_54.htm\", \"1655-69.htm\"]\n",
    "full_links = []\n",
    "\n",
    "for period in time_period:\n",
    "\n",
    "  url_catalogue = \"http://www.rembrandtpainting.net/rembrandt_painting_\" + period\n",
    "\n",
    "  response = requests.get(url_catalogue)\n",
    "  soup = BeautifulSoup(response.content, \"html.parser\")\n",
    "\n",
    "  \n",
    "  if response.status_code == 200:\n",
    "    \n",
    "    anchors = soup.find_all(\"a\")\n",
    "    for anchor in anchors:\n",
    "      href = anchor[\"href\"]\n",
    "      helpert = [\"1620\", \"1636\", \"1655\"]\n",
    "      for helper in helpert:\n",
    "        if helper in href:\n",
    "          full_links.append(f\"http://www.rembrandtpainting.net/{href}\")\n"
   ]
  },
  {
   "cell_type": "code",
   "execution_count": 8,
   "metadata": {},
   "outputs": [],
   "source": [
    "images = []\n",
    "helpers = [\"rmbrndt_1620-35/\", \"rmbrndt_1636-1654/\", \"rmbrndt_1655-1669/\"]\n",
    "i = 0\n",
    "\n",
    "for link in full_links:\n",
    "  \n",
    "  response = requests.get(link)\n",
    "  # print(link)\n",
    "  soup = BeautifulSoup(response.content, \"html.parser\")\n",
    "\n",
    "  for div in soup.find_all(\"div\", attrs={\"id\": \"workimage\"}):\n",
    "    \n",
    "    try:\n",
    "      \n",
    "      if div.find(\"img\")[\"src\"].startswith(\"1620\"):\n",
    "        urllib.request.urlretrieve(f\"http://www.rembrandtpainting.net/{helpers[0]}\" + div.find(\"img\")[\"src\"], f\"Rembrandt {i}.jpg\")\n",
    "      elif div.find(\"img\")[\"src\"].startswith(\"1636\"):\n",
    "        urllib.request.urlretrieve(f\"http://www.rembrandtpainting.net/{helpers[1]}\" + div.find(\"img\")[\"src\"], f\"Rembrandt {i}.jpg\")\n",
    "      elif div.find(\"img\")[\"src\"].startswith(\"1655\"):\n",
    "        urllib.request.urlretrieve(f\"http://www.rembrandtpainting.net/{helpers[2]}\" + div.find(\"img\")[\"src\"], f\"Rembrandt {i}.jpg\")\n",
    "          \n",
    "      i += 1\n",
    "    except:\n",
    "      print(\"fail\")"
   ]
  },
  {
   "cell_type": "code",
   "execution_count": 13,
   "metadata": {},
   "outputs": [],
   "source": [
    "os.chdir(\"../..\") # terug keren naar de opdracht directory"
   ]
  }
 ],
 "metadata": {
  "kernelspec": {
   "display_name": "Python 3.9.13 64-bit (microsoft store)",
   "language": "python",
   "name": "python3"
  },
  "language_info": {
   "codemirror_mode": {
    "name": "ipython",
    "version": 3
   },
   "file_extension": ".py",
   "mimetype": "text/x-python",
   "name": "python",
   "nbconvert_exporter": "python",
   "pygments_lexer": "ipython3",
   "version": "3.9.13"
  },
  "orig_nbformat": 4,
  "vscode": {
   "interpreter": {
    "hash": "60a9a335d522aefda6eaa043709c97f9746d66f97309f2f09eaf1fc365ea87e3"
   }
  }
 },
 "nbformat": 4,
 "nbformat_minor": 2
}
